{
 "cells": [
  {
   "cell_type": "code",
   "execution_count": 1,
   "id": "7ec06eb9",
   "metadata": {},
   "outputs": [],
   "source": [
    "#!pip install textblob"
   ]
  },
  {
   "cell_type": "code",
   "execution_count": 2,
   "id": "ac383422",
   "metadata": {},
   "outputs": [],
   "source": [
    "#!pip install vaderSentiment"
   ]
  },
  {
   "cell_type": "code",
   "execution_count": 3,
   "id": "f48f68aa",
   "metadata": {},
   "outputs": [],
   "source": [
    "from tkinter import *\n",
    "from textblob import TextBlob\n",
    "from vaderSentiment.vaderSentiment import SentimentIntensityAnalyzer\n",
    "sid_obj = SentimentIntensityAnalyzer()"
   ]
  },
  {
   "cell_type": "code",
   "execution_count": 45,
   "id": "7010373f",
   "metadata": {},
   "outputs": [],
   "source": [
    "# create app \n",
    "\n",
    "window = Tk() # create app window\n",
    "window.geometry('600x400') #size of app window\n",
    "window.config(bg='#DFDCDC') #color of app window\n",
    "window.title('Sentiment Analyzer')\n",
    "window.resizable(width=False,height=False)\n",
    "\n",
    "displayResult = StringVar()\n",
    "\n",
    "# 4.) event handling\n",
    "\n",
    "def check_sentiment():\n",
    "    user_input = inputText_field.get()\n",
    "    \n",
    "    res = TextBlob(user_input)\n",
    "    res = sid_obj.polarity_scores(res)\n",
    "    \n",
    "    if res['compound'] >= 0.05:\n",
    "        displayResult.set('Positive')\n",
    "        inputText_field.delete(0,END)\n",
    "    elif res['compound'] <= -0.05:\n",
    "        displayResult.set('Negative')\n",
    "        inputText_field.delete(0,END)\n",
    "    else:\n",
    "        displayResult.set('Neutral')\n",
    "        inputText_field.delete(0,END)\n",
    "\n",
    "# 2.) create widgets\n",
    "\n",
    "title = Label(window,text='Please Insert your Sentiments',fg='#000000',\n",
    "             bg='#DFDCDC',font=('Anitique Olive',16))\n",
    "\n",
    "inputText_field = Entry(window,font=('Arial',12))\n",
    "button1 = Button(window,text='Classify Text',fg='#FAFAFA',\n",
    "             bg='#24C6D3',font=('Arial',16),command=check_sentiment)\n",
    "outputLabel = Label(window,fg='#D32E24',\n",
    "             bg='#DFDCDC',font=('Arial',16),textvariable=displayResult)\n",
    "\n",
    "# 3.) place widgets\n",
    "title.place(x=160,y=50)\n",
    "inputText_field.place(x=210,y=120)\n",
    "button1.place(x=233,y=150)\n",
    "outputLabel.place(x=260,y=230)\n",
    "\n",
    "window.mainloop()"
   ]
  }
 ],
 "metadata": {
  "kernelspec": {
   "display_name": "Python 3 (ipykernel)",
   "language": "python",
   "name": "python3"
  },
  "language_info": {
   "codemirror_mode": {
    "name": "ipython",
    "version": 3
   },
   "file_extension": ".py",
   "mimetype": "text/x-python",
   "name": "python",
   "nbconvert_exporter": "python",
   "pygments_lexer": "ipython3",
   "version": "3.11.5"
  }
 },
 "nbformat": 4,
 "nbformat_minor": 5
}
